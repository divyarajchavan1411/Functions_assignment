{
  "nbformat": 4,
  "nbformat_minor": 0,
  "metadata": {
    "colab": {
      "provenance": []
    },
    "kernelspec": {
      "name": "python3",
      "display_name": "Python 3"
    },
    "language_info": {
      "name": "python"
    }
  },
  "cells": [
    {
      "cell_type": "code",
      "execution_count": null,
      "metadata": {
        "id": "IuZMF-RgIyB6"
      },
      "outputs": [],
      "source": []
    },
    {
      "cell_type": "markdown",
      "source": [
        "###Theory Questions\n",
        "1)  What is the difference between a function and a method in Python?\n",
        "Answer:\n",
        "- Method is called by it's name but its associated with an object means it is dependent while function is a block of code called by its name but it is independent.\n",
        "-Function does not deal with Class and its instance concept. But method can operate on the data (instance variables) that is contained by the corresponding class."
      ],
      "metadata": {
        "id": "2Gh7CJARI6Vm"
      }
    },
    {
      "cell_type": "code",
      "source": [],
      "metadata": {
        "id": "Y10-0WmvJT3C"
      },
      "execution_count": null,
      "outputs": []
    },
    {
      "cell_type": "markdown",
      "source": [
        "2) Explain the concept of function arguments and parameters in Python.\n",
        "Answer:\n",
        "- In Python, parameters are the variables defined in a function's signature, acting as placeholders for values the function will receive.\n",
        "- Arguments are the actual values passed to the function when called, which are assigned to the corresponding parameters.\n",
        "- Functions can accept different types of arguments: positional arguments (passed in order), keyword arguments (passed by name), default arguments (parameters with default values), and variable-length arguments (*args for non-keyword and **kwargs for keyword arguments).\n",
        "- These features make functions flexible, allowing for different ways to pass and manage data in a function."
      ],
      "metadata": {
        "id": "_CYGzvUfMC-O"
      }
    },
    {
      "cell_type": "markdown",
      "source": [
        "3) What are the different ways to define and call a function in Python?\n",
        "Answer:\n",
        "- Basic: def function_name()\n",
        "- With return: return statement\n",
        "- Default parameters: Parameters with default values\n",
        "- Variable-length: *args for positional, **kwargs for keyword\n",
        "- Lambda: Anonymous function\n",
        "- Recursive: Function calls itself\n",
        "- Keyword-only: Parameters after *"
      ],
      "metadata": {
        "id": "iTmMoEE0Ngn3"
      }
    },
    {
      "cell_type": "markdown",
      "source": [
        "4)What is the purpose of the `return` statement in a Python function?\n",
        "Answer:\n",
        "- The return statement in Python functions sends a value back to the caller and ends function execution.\n",
        "\n",
        "- It allows functions to return results for later use, such as storing in variables or passing to other functions.\n",
        "- If return is omitted, the function returns None by default. Multiple values can be returned as a tuple. Once return is reached, any code after it is ignored.\n",
        "-It plays a crucial role in making functions reusable and efficient. Without return, functions would only perform actions without providing output for further processing. It helps structure programs logically and modularly."
      ],
      "metadata": {
        "id": "p7SEbP2wOwep"
      }
    },
    {
      "cell_type": "markdown",
      "source": [
        "5) What are iterators in Python and how do they differ from iterables?\n",
        "Answer:\n",
        "- An iterable is any Python object that can return an iterator, meaning it can be looped over (e.g., lists, tuples, sets, dictionaries, strings).\n",
        "- Iterable objects have the __iter__() method, which returns an iterator.\n",
        "\n",
        "\n"
      ],
      "metadata": {
        "id": "qdUr9hLVQncU"
      }
    },
    {
      "cell_type": "code",
      "source": [
        "my_list = [1, 2, 3]  # List is iterable\n",
        "for item in my_list:\n",
        "    print(item)  # Can be looped over"
      ],
      "metadata": {
        "colab": {
          "base_uri": "https://localhost:8080/"
        },
        "id": "OUDm_4DnR3Q2",
        "outputId": "edac0d3c-6aac-42eb-eddb-74e3020f1c5d"
      },
      "execution_count": null,
      "outputs": [
        {
          "output_type": "stream",
          "name": "stdout",
          "text": [
            "1\n",
            "2\n",
            "3\n"
          ]
        }
      ]
    },
    {
      "cell_type": "code",
      "source": [],
      "metadata": {
        "id": "YY1pytOHR9jv"
      },
      "execution_count": null,
      "outputs": []
    },
    {
      "cell_type": "markdown",
      "source": [
        "6)Explain the concept of generators in Python and how they are defined\n",
        "Answer:\n",
        "- Generators are a special type of iterator in Python that allow you to generate values lazily, meaning they produce items one at a time and only when requested. This makes them memory-efficient, especially for handling large datasets. Unlike normal functions that return a single value and terminate, generators maintain their state between calls using the 'yield'\n",
        "keyword.\n",
        "- A generator is defined using a function with the 'yield' statement instead of return. Each time yield is encountered, the function’s execution is paused, and the value is sent to the caller. When resumed, execution continues from where it left off.\n"
      ],
      "metadata": {
        "id": "584Dqs3gSEbd"
      }
    },
    {
      "cell_type": "markdown",
      "source": [
        "7) What are the advantages of using generators over regular functions?\n",
        "\n",
        "Answer:\n",
        "- Generators in Python provide memory-efficient, lazy evaluation by yielding values one at a time instead of storing them in memory.\n",
        "- They execute faster for large datasets, retain state between calls, and simplify iterator implementation using 'yield'.\n",
        "- Unlike regular functions, generators support infinite sequences without predefined size, making them ideal for handling streams of data.\n",
        "\n",
        "- They enable efficient pipeline processing by chaining operations. Their simplicity and performance benefits make them preferable for tasks like data processing, log parsing, and real-time computations.\n",
        "- Overall, generators reduce memory usage, improve performance, and make code more readable and maintainable."
      ],
      "metadata": {
        "id": "Sp2g-qC4Tl1H"
      }
    },
    {
      "cell_type": "markdown",
      "source": [
        "8)What is a lambda function in Python and when is it typically used?\n",
        "Answer:\n",
        "\n",
        "- A lambda function in Python is a short, anonymous function defined using the lambda keyword.\n",
        "- It has a single expression and is commonly used for quick operations where defining a full function is unnecessary.\n",
        "- Lambda functions are useful in sorting (key argument), functional programming (map, filter, reduce), and inline conditional expressions.\n",
        "\n",
        "- They improve code conciseness but are limited to simple logic, making them harder to debug and less readable for complex tasks.\n",
        "- While powerful for short operations, regular functions (def) are preferred for more structured and maintainable code."
      ],
      "metadata": {
        "id": "BPcgcHuxVYRr"
      }
    },
    {
      "cell_type": "markdown",
      "source": [
        "9) Explain the purpose and usage of the `map()` function in Python\n",
        "Answer:\n",
        "- The map() function in Python is used to apply a function to every item in an iterable (e.g., list, tuple, set) and return a new iterable (a map object). It helps in transforming data efficiently without using explicit loops."
      ],
      "metadata": {
        "id": "V2uzJlAEb06U"
      }
    },
    {
      "cell_type": "markdown",
      "source": [
        "10) What is the difference between `map()`, `reduce()`, and `filter()` functions in Python?\n",
        "Answer:\n",
        "- The map(), filter(), and reduce() functions in Python process iterables efficiently.\n",
        "- map() applies a function to all elements, returning a transformed iterable of the same size.\n",
        "- filter() selects elements that satisfy a condition, returning a subset of the original iterable.\n",
        "- reduce(), from functools, applies a function cumulatively, reducing an iterable to a single result.\n",
        "- map() is useful for transformations like squaring numbers, filter() is ideal for extracting elements like even numbers, and reduce() helps with aggregation, such as summing a list. While map() and filter() return iterables, reduce() produces a single computed value."
      ],
      "metadata": {
        "id": "_oALcX4Icj7h"
      }
    },
    {
      "cell_type": "markdown",
      "source": [
        "#Practical Questions\n",
        "1) Write a Python function that takes a list of numbers as input and returns the sum of all even numbers in\n",
        "the list."
      ],
      "metadata": {
        "id": "boOGobwUwZN6"
      }
    },
    {
      "cell_type": "code",
      "source": [
        "def sum_even_numbers(numbers):\n",
        "    return sum(num for num in numbers if num % 2 == 0)\n",
        "numbers=(2,4,5,7,8)\n",
        "sum_even_numbers(numbers)"
      ],
      "metadata": {
        "colab": {
          "base_uri": "https://localhost:8080/"
        },
        "id": "GdxiR8kYxeuR",
        "outputId": "ea8c0575-f0f0-408e-a7f0-0e7a4901d62b"
      },
      "execution_count": 2,
      "outputs": [
        {
          "output_type": "execute_result",
          "data": {
            "text/plain": [
              "14"
            ]
          },
          "metadata": {},
          "execution_count": 2
        }
      ]
    },
    {
      "cell_type": "markdown",
      "source": [
        "2) Create a Python function that accepts a string and returns the reverse of that string."
      ],
      "metadata": {
        "id": "YFS8mWbHyicN"
      }
    },
    {
      "cell_type": "code",
      "source": [
        "s=\"Divyaraj\"\n",
        "s[::-1]\n"
      ],
      "metadata": {
        "colab": {
          "base_uri": "https://localhost:8080/",
          "height": 36
        },
        "id": "N3Qaqwh_zIDr",
        "outputId": "52451615-4246-4147-e20c-bd0ee7c26bee"
      },
      "execution_count": 5,
      "outputs": [
        {
          "output_type": "execute_result",
          "data": {
            "text/plain": [
              "'jarayviD'"
            ],
            "application/vnd.google.colaboratory.intrinsic+json": {
              "type": "string"
            }
          },
          "metadata": {},
          "execution_count": 5
        }
      ]
    },
    {
      "cell_type": "markdown",
      "source": [
        "3) Implement a Python function that takes a list of integers and returns a new list containing the squares of\n",
        "each number"
      ],
      "metadata": {
        "id": "ngH-y86l0zG2"
      }
    },
    {
      "cell_type": "code",
      "source": [
        "def square_numbers(numbers):\n",
        "    return [num ** 2 for num in numbers]\n",
        "numbers=(1,2,3,4,5,6,7,8)\n",
        "square_numbers(numbers)"
      ],
      "metadata": {
        "colab": {
          "base_uri": "https://localhost:8080/"
        },
        "id": "tBmANL881fDR",
        "outputId": "dc76613f-4a1a-4352-c49f-bc702047d8bf"
      },
      "execution_count": 6,
      "outputs": [
        {
          "output_type": "execute_result",
          "data": {
            "text/plain": [
              "[1, 4, 9, 16, 25, 36, 49, 64]"
            ]
          },
          "metadata": {},
          "execution_count": 6
        }
      ]
    },
    {
      "cell_type": "markdown",
      "source": [
        "4) Write a Python function that checks if a given number is prime or not from 1 to 200.\n",
        "\n",
        "\n"
      ],
      "metadata": {
        "id": "9dn1NDkO2OAt"
      }
    },
    {
      "cell_type": "code",
      "source": [
        "def is_prime(n):\n",
        "    if n < 2:\n",
        "        return False\n",
        "    for i in range(2, int(n ** 0.5) + 1):\n",
        "        if n % i == 0:\n",
        "            return False\n",
        "    return True\n",
        "prime_numbers = [n for n in range(1, 201) if is_prime(n)]\n",
        "print(prime_numbers)"
      ],
      "metadata": {
        "colab": {
          "base_uri": "https://localhost:8080/"
        },
        "id": "Q9vxEd6I3ZxI",
        "outputId": "fc942e48-a682-4602-b6c5-690d370cbdcc"
      },
      "execution_count": 7,
      "outputs": [
        {
          "output_type": "stream",
          "name": "stdout",
          "text": [
            "[2, 3, 5, 7, 11, 13, 17, 19, 23, 29, 31, 37, 41, 43, 47, 53, 59, 61, 67, 71, 73, 79, 83, 89, 97, 101, 103, 107, 109, 113, 127, 131, 137, 139, 149, 151, 157, 163, 167, 173, 179, 181, 191, 193, 197, 199]\n"
          ]
        }
      ]
    },
    {
      "cell_type": "markdown",
      "source": [
        "5)Create an iterator class in Python that generates the Fibonacci sequence up to a specified number of\n",
        "terms."
      ],
      "metadata": {
        "id": "06eowU8g4iEN"
      }
    },
    {
      "cell_type": "markdown",
      "source": [
        "6) Write a generator function in Python that yields the powers of 2 up to a given exponent."
      ],
      "metadata": {
        "id": "XZzXktr9BwGe"
      }
    },
    {
      "cell_type": "code",
      "source": [
        "def powers_of_two(exponent):\n",
        "    exponent = 10\n",
        "    for i in range(exponent + 1):\n",
        "        yield 2 ** i\n",
        "print(list(powers_of_two(10)))\n"
      ],
      "metadata": {
        "colab": {
          "base_uri": "https://localhost:8080/"
        },
        "id": "8CTcF9wVCTPM",
        "outputId": "c44e3180-dd14-4f55-9998-7110ab8a5728"
      },
      "execution_count": 10,
      "outputs": [
        {
          "output_type": "stream",
          "name": "stdout",
          "text": [
            "[1, 2, 4, 8, 16, 32, 64, 128, 256, 512, 1024]\n"
          ]
        }
      ]
    },
    {
      "cell_type": "markdown",
      "source": [
        "7) Implement a generator function that reads a file line by line and yields each line as a string."
      ],
      "metadata": {
        "id": "BBZzbN5yDDjY"
      }
    },
    {
      "cell_type": "code",
      "source": [
        "def read_file_lines(file_path):\n",
        "    with open(file_path, 'r') as file:\n",
        "        for line in file:\n",
        "            yield line.strip()\n",
        "test_file_path = \"example.txt\"\n",
        "for line in read_file_lines(test_file_path):\n",
        "    print(line)"
      ],
      "metadata": {
        "colab": {
          "base_uri": "https://localhost:8080/",
          "height": 315
        },
        "id": "spDnTT9QEjoc",
        "outputId": "76dc88ed-930e-4c19-aa04-c80ab805776f"
      },
      "execution_count": 11,
      "outputs": [
        {
          "output_type": "error",
          "ename": "FileNotFoundError",
          "evalue": "[Errno 2] No such file or directory: 'example.txt'",
          "traceback": [
            "\u001b[0;31m---------------------------------------------------------------------------\u001b[0m",
            "\u001b[0;31mFileNotFoundError\u001b[0m                         Traceback (most recent call last)",
            "\u001b[0;32m<ipython-input-11-8586831d5105>\u001b[0m in \u001b[0;36m<cell line: 0>\u001b[0;34m()\u001b[0m\n\u001b[1;32m      4\u001b[0m             \u001b[0;32myield\u001b[0m \u001b[0mline\u001b[0m\u001b[0;34m.\u001b[0m\u001b[0mstrip\u001b[0m\u001b[0;34m(\u001b[0m\u001b[0;34m)\u001b[0m\u001b[0;34m\u001b[0m\u001b[0;34m\u001b[0m\u001b[0m\n\u001b[1;32m      5\u001b[0m \u001b[0mtest_file_path\u001b[0m \u001b[0;34m=\u001b[0m \u001b[0;34m\"example.txt\"\u001b[0m\u001b[0;34m\u001b[0m\u001b[0;34m\u001b[0m\u001b[0m\n\u001b[0;32m----> 6\u001b[0;31m \u001b[0;32mfor\u001b[0m \u001b[0mline\u001b[0m \u001b[0;32min\u001b[0m \u001b[0mread_file_lines\u001b[0m\u001b[0;34m(\u001b[0m\u001b[0mtest_file_path\u001b[0m\u001b[0;34m)\u001b[0m\u001b[0;34m:\u001b[0m\u001b[0;34m\u001b[0m\u001b[0;34m\u001b[0m\u001b[0m\n\u001b[0m\u001b[1;32m      7\u001b[0m     \u001b[0mprint\u001b[0m\u001b[0;34m(\u001b[0m\u001b[0mline\u001b[0m\u001b[0;34m)\u001b[0m\u001b[0;34m\u001b[0m\u001b[0;34m\u001b[0m\u001b[0m\n",
            "\u001b[0;32m<ipython-input-11-8586831d5105>\u001b[0m in \u001b[0;36mread_file_lines\u001b[0;34m(file_path)\u001b[0m\n\u001b[1;32m      1\u001b[0m \u001b[0;32mdef\u001b[0m \u001b[0mread_file_lines\u001b[0m\u001b[0;34m(\u001b[0m\u001b[0mfile_path\u001b[0m\u001b[0;34m)\u001b[0m\u001b[0;34m:\u001b[0m\u001b[0;34m\u001b[0m\u001b[0;34m\u001b[0m\u001b[0m\n\u001b[0;32m----> 2\u001b[0;31m     \u001b[0;32mwith\u001b[0m \u001b[0mopen\u001b[0m\u001b[0;34m(\u001b[0m\u001b[0mfile_path\u001b[0m\u001b[0;34m,\u001b[0m \u001b[0;34m'r'\u001b[0m\u001b[0;34m)\u001b[0m \u001b[0;32mas\u001b[0m \u001b[0mfile\u001b[0m\u001b[0;34m:\u001b[0m\u001b[0;34m\u001b[0m\u001b[0;34m\u001b[0m\u001b[0m\n\u001b[0m\u001b[1;32m      3\u001b[0m         \u001b[0;32mfor\u001b[0m \u001b[0mline\u001b[0m \u001b[0;32min\u001b[0m \u001b[0mfile\u001b[0m\u001b[0;34m:\u001b[0m\u001b[0;34m\u001b[0m\u001b[0;34m\u001b[0m\u001b[0m\n\u001b[1;32m      4\u001b[0m             \u001b[0;32myield\u001b[0m \u001b[0mline\u001b[0m\u001b[0;34m.\u001b[0m\u001b[0mstrip\u001b[0m\u001b[0;34m(\u001b[0m\u001b[0;34m)\u001b[0m\u001b[0;34m\u001b[0m\u001b[0;34m\u001b[0m\u001b[0m\n\u001b[1;32m      5\u001b[0m \u001b[0mtest_file_path\u001b[0m \u001b[0;34m=\u001b[0m \u001b[0;34m\"example.txt\"\u001b[0m\u001b[0;34m\u001b[0m\u001b[0;34m\u001b[0m\u001b[0m\n",
            "\u001b[0;31mFileNotFoundError\u001b[0m: [Errno 2] No such file or directory: 'example.txt'"
          ]
        }
      ]
    },
    {
      "cell_type": "markdown",
      "source": [
        "8) Use a lambda function in Python to sort a list of tuples based on the second element of each tuple."
      ],
      "metadata": {
        "id": "E4H0CREkFTbP"
      }
    },
    {
      "cell_type": "code",
      "source": [
        "def sort_tuples_by_second_element(tuples_list):\n",
        "    return sorted(tuples_list, key=lambda x: x[1])\n",
        "    tuples_list = [(1, 3), (4, 1), (2, 5), (3, 2)]\n",
        "    print(sort_tuples_by_second_element(tuples_list))"
      ],
      "metadata": {
        "id": "XQQDcMw76fis"
      },
      "execution_count": 13,
      "outputs": []
    },
    {
      "cell_type": "markdown",
      "source": [
        "9)Write a Python program that uses `map()` to convert a list of temperatures from Celsius to Fahrenheit"
      ],
      "metadata": {
        "id": "vpBlp56EG51x"
      }
    },
    {
      "cell_type": "code",
      "source": [
        "def celsius_to_fahrenheit(celsius_temps):\n",
        "    return list(map(lambda c: (c * 9/5) + 32, celsius_temps))\n",
        "    temperatures_celsius = [0, 10, 20, 30, 40, 100]\n",
        "\n",
        "    print(celsius_to_fahrenheit(temperatures_celsius))\n"
      ],
      "metadata": {
        "id": "N1FsiKgaGeC1"
      },
      "execution_count": 16,
      "outputs": []
    },
    {
      "cell_type": "markdown",
      "source": [
        "10) Create a Python program that uses `filter()` to remove all the vowels from a given string.\n",
        "\n",
        "\n"
      ],
      "metadata": {
        "id": "Pa2GutiTJHOT"
      }
    },
    {
      "cell_type": "code",
      "source": [
        "def remove_vowels(s):\n",
        "    s=\"Divyaraj\"\n",
        "    return ''.join(filter(lambda c: c.lower() not in 'aeiou', s))\n",
        "    print(remove_vowels(s))"
      ],
      "metadata": {
        "id": "btwg4AQYNqyB"
      },
      "execution_count": 17,
      "outputs": []
    },
    {
      "cell_type": "code",
      "source": [],
      "metadata": {
        "id": "rFNDWw-DIgC7"
      },
      "execution_count": null,
      "outputs": []
    }
  ]
}